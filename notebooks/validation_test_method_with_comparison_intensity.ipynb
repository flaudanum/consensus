{
 "cells": [
  {
   "cell_type": "markdown",
   "metadata": {},
   "source": [
    "# Validation case of the algorithm with variable intensity in preference\n",
    "This notebook is based on the code of the validation test `test_validation.test_method_with_comparison_intensity`."
   ]
  },
  {
   "cell_type": "code",
   "execution_count": 7,
   "metadata": {},
   "outputs": [],
   "source": [
    "import sys\n",
    "sys.path.insert(0, \"..\")\n",
    "from consensus.entities.ranking_process import RankingProcess\n",
    "from consensus.entities.ranking import Preference"
   ]
  },
  {
   "cell_type": "markdown",
   "metadata": {},
   "source": [
    "First, a new blank _ranking process_ is created:"
   ]
  },
  {
   "cell_type": "code",
   "execution_count": 8,
   "metadata": {},
   "outputs": [],
   "source": [
    "rk_process = RankingProcess()"
   ]
  },
  {
   "cell_type": "markdown",
   "metadata": {},
   "source": [
    "The list of alternatives is specified hereafter. They will be ranked by the members in the group which tries to reach a consensus."
   ]
  },
  {
   "cell_type": "code",
   "execution_count": 9,
   "metadata": {},
   "outputs": [],
   "source": [
    "# Names of alternatives\n",
    "alternative_names = (\"A\", \"B\", \"C\", \"D\", \"E\", \"F\", \"G\", \"H\")\n",
    "\n",
    "# Creates the alternatives\n",
    "for name in alternative_names:\n",
    "    rk_process.new_alternative(\n",
    "        name=name,\n",
    "        description=f\"Alternative '{name}'\"\n",
    "    )"
   ]
  },
  {
   "cell_type": "markdown",
   "metadata": {},
   "source": [
    "Now, let's add two members in the group _Grace_ and _Barbara_:"
   ]
  },
  {
   "cell_type": "code",
   "execution_count": 10,
   "metadata": {},
   "outputs": [],
   "source": [
    "rk_process.new_member(\"Grace\")\n",
    "rk_process.new_member(\"Barbara\")"
   ]
  },
  {
   "cell_type": "markdown",
   "metadata": {},
   "source": [
    "_Grace_ makes a ranking of alternatives with a _moderate preference_ between the four classes she specifies:\n",
    "- A, B\n",
    "- C, D, E\n",
    "- F\n",
    "- G, H"
   ]
  },
  {
   "cell_type": "code",
   "execution_count": 11,
   "metadata": {},
   "outputs": [],
   "source": [
    "rk_process.make_ranking(\"Grace\", [\n",
    "    [\"A\", \"B\"],\n",
    "    [\"C\", \"D\", \"E\"],\n",
    "    [\"F\"],\n",
    "    [\"G\", \"H\"]\n",
    "])"
   ]
  },
  {
   "cell_type": "markdown",
   "metadata": {},
   "source": [
    "_Barabara_ makes exactly the same ranking but with variable intensities:\n",
    "- A, B are **very strongly** prefered over\n",
    "- C, D, E which are **moderately** prefered over\n",
    "- F which is strongly prefered over\n",
    "- G, H"
   ]
  },
  {
   "cell_type": "code",
   "execution_count": 12,
   "metadata": {},
   "outputs": [],
   "source": [
    "rk_process.make_ranking(\n",
    "    \"Barbara\",\n",
    "    [\n",
    "        [\"A\", \"B\"],\n",
    "        [\"C\", \"D\", \"E\"],\n",
    "        [\"F\"],\n",
    "        [\"G\", \"H\"]\n",
    "    ],\n",
    "    [\n",
    "        Preference.VERY_STRONG,\n",
    "        Preference.MODERATE,\n",
    "        Preference.STRONG\n",
    "    ]\n",
    ")"
   ]
  },
  {
   "cell_type": "markdown",
   "metadata": {},
   "source": [
    "The table bellow gives payoff of every alternative."
   ]
  },
  {
   "cell_type": "code",
   "execution_count": 14,
   "metadata": {},
   "outputs": [
    {
     "data": {
      "text/html": [
       "<div>\n",
       "<style scoped>\n",
       "    .dataframe tbody tr th:only-of-type {\n",
       "        vertical-align: middle;\n",
       "    }\n",
       "\n",
       "    .dataframe tbody tr th {\n",
       "        vertical-align: top;\n",
       "    }\n",
       "\n",
       "    .dataframe thead th {\n",
       "        text-align: right;\n",
       "    }\n",
       "</style>\n",
       "<table border=\"1\" class=\"dataframe\">\n",
       "  <thead>\n",
       "    <tr style=\"text-align: right;\">\n",
       "      <th></th>\n",
       "      <th>Grace</th>\n",
       "      <th>Barbara</th>\n",
       "      <th>total</th>\n",
       "    </tr>\n",
       "  </thead>\n",
       "  <tbody>\n",
       "    <tr>\n",
       "      <th>A</th>\n",
       "      <td>0.750</td>\n",
       "      <td>0.905810</td>\n",
       "      <td>1.655810</td>\n",
       "    </tr>\n",
       "    <tr>\n",
       "      <th>B</th>\n",
       "      <td>0.750</td>\n",
       "      <td>0.905810</td>\n",
       "      <td>1.655810</td>\n",
       "    </tr>\n",
       "    <tr>\n",
       "      <th>C</th>\n",
       "      <td>0.375</td>\n",
       "      <td>0.250022</td>\n",
       "      <td>0.625022</td>\n",
       "    </tr>\n",
       "    <tr>\n",
       "      <th>D</th>\n",
       "      <td>0.375</td>\n",
       "      <td>0.250022</td>\n",
       "      <td>0.625022</td>\n",
       "    </tr>\n",
       "    <tr>\n",
       "      <th>E</th>\n",
       "      <td>0.375</td>\n",
       "      <td>0.250022</td>\n",
       "      <td>0.625022</td>\n",
       "    </tr>\n",
       "    <tr>\n",
       "      <th>F</th>\n",
       "      <td>0.250</td>\n",
       "      <td>0.202927</td>\n",
       "      <td>0.452927</td>\n",
       "    </tr>\n",
       "    <tr>\n",
       "      <th>G</th>\n",
       "      <td>0.000</td>\n",
       "      <td>0.000000</td>\n",
       "      <td>0.000000</td>\n",
       "    </tr>\n",
       "    <tr>\n",
       "      <th>H</th>\n",
       "      <td>0.000</td>\n",
       "      <td>0.000000</td>\n",
       "      <td>0.000000</td>\n",
       "    </tr>\n",
       "  </tbody>\n",
       "</table>\n",
       "</div>"
      ],
      "text/plain": [
       "   Grace   Barbara     total\n",
       "A  0.750  0.905810  1.655810\n",
       "B  0.750  0.905810  1.655810\n",
       "C  0.375  0.250022  0.625022\n",
       "D  0.375  0.250022  0.625022\n",
       "E  0.375  0.250022  0.625022\n",
       "F  0.250  0.202927  0.452927\n",
       "G  0.000  0.000000  0.000000\n",
       "H  0.000  0.000000  0.000000"
      ]
     },
     "metadata": {},
     "output_type": "display_data"
    }
   ],
   "source": [
    "payoff_table = rk_process.payoff()\n",
    "display(payoff_table)"
   ]
  },
  {
   "cell_type": "code",
   "execution_count": null,
   "metadata": {},
   "outputs": [],
   "source": []
  }
 ],
 "metadata": {
  "kernelspec": {
   "display_name": "Python 3",
   "language": "python",
   "name": "python3"
  },
  "language_info": {
   "codemirror_mode": {
    "name": "ipython",
    "version": 3
   },
   "file_extension": ".py",
   "mimetype": "text/x-python",
   "name": "python",
   "nbconvert_exporter": "python",
   "pygments_lexer": "ipython3",
   "version": "3.9.0"
  }
 },
 "nbformat": 4,
 "nbformat_minor": 4
}
